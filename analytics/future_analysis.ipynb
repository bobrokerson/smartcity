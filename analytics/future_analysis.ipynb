{
 "cells": [
  {
   "cell_type": "code",
   "execution_count": null,
   "id": "20d6e914",
   "metadata": {},
   "outputs": [],
   "source": [
    "# Data analytics request\n",
    "\n",
    "import pandas as pd\n",
    "\n",
    "# Download data\n",
    "# df = pd.read_json('../examples/collection.json', lines=True)\n",
    "\n",
    "# Preprocessing\n",
    "# Grouping by route and date\n",
    "# Visualizations matplotlib / seaborn / plotly\n",
    "\n",
    "\n"
   ]
  }
 ],
 "metadata": {
  "kernelspec": {
   "display_name": "base",
   "language": "python",
   "name": "python3"
  },
  "language_info": {
   "name": "python",
   "version": "3.12.7"
  }
 },
 "nbformat": 4,
 "nbformat_minor": 5
}
